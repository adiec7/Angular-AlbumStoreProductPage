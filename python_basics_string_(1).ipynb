{
  "cells": [
    {
      "cell_type": "markdown",
      "metadata": {
        "id": "view-in-github",
        "colab_type": "text"
      },
      "source": [
        "<a href=\"https://colab.research.google.com/github/adiec7/Angular-AlbumStoreProductPage/blob/master/python_basics_string_(1).ipynb\" target=\"_parent\"><img src=\"https://colab.research.google.com/assets/colab-badge.svg\" alt=\"Open In Colab\"/></a>"
      ]
    },
    {
      "cell_type": "markdown",
      "id": "49125307",
      "metadata": {
        "id": "49125307"
      },
      "source": [
        "We already install python now open your IDLE (Integrated Development and Learning Environment) this is where your will type your code for now before we move to a code editor or an IDE (integrated development environment).\n",
        "# Datatype\n",
        "In programming, data type is an important concept.\n",
        "\n",
        "Variables can store data of different types, and different types can do different things.\n",
        "\n",
        "Python has the following data types built-in by default, in these categories:\n",
        "Text Type:\n",
        "\n",
        "------------------\n",
        "str (string)\n",
        "\n",
        "--------------------\n",
        "Numeric Types:\tint, float, complex\n",
        "\n",
        "---------------------\n",
        "Sequence Types:\tlist, tuple, range\n",
        "\n",
        "----------------------------------\n",
        "Mapping Type:\tdict\n",
        "\n",
        "--------------------------\n",
        "Set Types:\tset, frozenset\n",
        "\n",
        "-------------------------\n",
        "Boolean Type:\tbool\n",
        "\n",
        "---------------------------\n",
        "Binary Types:\tbytes, bytearray, memoryview\n",
        "\n",
        "----------------------------------------------\n",
        "None Type:\tNoneType.\n",
        "\n",
        "---------------------------------\n",
        "\n",
        "# Strings \n",
        "\n",
        "string str pronounce as 'stirs'. enclosed in a single quotation mark or a double quotation mark these are text your normal english text, latters,and words. An empty quotation ('') is called a blank strings\n",
        "\n",
        "Strings are used in Python to record text information, such as names. Strings in Python are actually a *sequence*, which basically means Python keeps track of every element in the string as a sequence. For example, Python understands the string \"hello' to be a sequence of letters in a specific order. This means we will be able to use indexing to grab particular letters (like the first letter, or the last letter).\n",
        "\n",
        "This idea of a sequence is an important one in Python and we will touch upon it later on in the future.\n",
        "\n",
        "this note covers the following:\n",
        "\n",
        " 1. Creating Strings\n",
        " 2. Printing Strings\n",
        " 3. String Indexing and Slicing\n",
        " 4. String Properties\n",
        " 5. String Methods\n",
        " 6. Print Formatting\n"
      ]
    },
    {
      "cell_type": "code",
      "execution_count": null,
      "id": "279d0e17",
      "metadata": {
        "id": "279d0e17",
        "outputId": "cda0daf4-90b2-408e-a5e1-f162a5a50b63"
      },
      "outputs": [
        {
          "data": {
            "text/plain": [
              "'a'"
            ]
          },
          "execution_count": 1,
          "metadata": {},
          "output_type": "execute_result"
        }
      ],
      "source": [
        "# Latters \n",
        "\"a\"\n",
        "\n",
        "\n"
      ]
    },
    {
      "cell_type": "code",
      "execution_count": null,
      "id": "3455e315",
      "metadata": {
        "id": "3455e315",
        "outputId": "33cf1e14-e592-4e81-e6a7-d4680ec30807"
      },
      "outputs": [
        {
          "data": {
            "text/plain": [
              "('Home', 'go', \"don't go\", 'python')"
            ]
          },
          "execution_count": 2,
          "metadata": {},
          "output_type": "execute_result"
        }
      ],
      "source": [
        "# Words \n",
        "'Home','go','don\\'t go','python'\n",
        "\n",
        "\n"
      ]
    },
    {
      "cell_type": "code",
      "execution_count": null,
      "id": "54be41d5",
      "metadata": {
        "id": "54be41d5",
        "outputId": "4283f686-3c8a-41be-d81f-4770e62c0290"
      },
      "outputs": [
        {
          "data": {
            "text/plain": [
              "'you are welcome to class'"
            ]
          },
          "execution_count": 3,
          "metadata": {},
          "output_type": "execute_result"
        }
      ],
      "source": [
        "# sentence or phrase \n",
        "'you are welcome to class'"
      ]
    },
    {
      "cell_type": "code",
      "execution_count": null,
      "id": "a30b27d1",
      "metadata": {
        "id": "a30b27d1",
        "outputId": "1fc8ab51-0a70-436a-8167-24a2e19eb9cc"
      },
      "outputs": [
        {
          "ename": "SyntaxError",
          "evalue": "invalid syntax (<ipython-input-4-30e05c576c13>, line 2)",
          "output_type": "error",
          "traceback": [
            "\u001b[1;36m  File \u001b[1;32m\"<ipython-input-4-30e05c576c13>\"\u001b[1;36m, line \u001b[1;32m2\u001b[0m\n\u001b[1;33m    'you're welcome to class'\u001b[0m\n\u001b[1;37m         ^\u001b[0m\n\u001b[1;31mSyntaxError\u001b[0m\u001b[1;31m:\u001b[0m invalid syntax\n"
          ]
        }
      ],
      "source": [
        "# Escape hareacter (\\)\n",
        "'you're welcome to class'"
      ]
    },
    {
      "cell_type": "code",
      "execution_count": null,
      "id": "daa995dd",
      "metadata": {
        "id": "daa995dd"
      },
      "outputs": [],
      "source": [
        "#correction\n",
        "'you\\'re welcome to class' "
      ]
    },
    {
      "cell_type": "code",
      "execution_count": null,
      "id": "a09464e6",
      "metadata": {
        "id": "a09464e6"
      },
      "outputs": [],
      "source": [
        "# you can also use double qoutes \n",
        "\"You are welcome to class\""
      ]
    },
    {
      "cell_type": "code",
      "execution_count": null,
      "id": "baecea1d",
      "metadata": {
        "id": "baecea1d"
      },
      "outputs": [],
      "source": [
        "# New line\n",
        "# we use same backslash and n for new line\n",
        "print('welcome to class\\n how are you?')"
      ]
    },
    {
      "cell_type": "markdown",
      "id": "a1e5bd59",
      "metadata": {
        "id": "a1e5bd59"
      },
      "source": [
        "# comments\n",
        "** Python ignores comments, and you can use them to write notes or remind\n",
        "** yourself what the code is trying to do. Any text for the rest of the line following\n",
        "** a hash mark (#) is part of a comment.\n",
        "** Sometimes, programmers will put a # in front of a line of code to temporarily\n",
        "** remove it while testing a program. This is called commenting out code, and it\n",
        "** can be useful when you’re trying to figure out why a program doesn’t work. You\n",
        "** can remove the # later when you are ready to put the line back in."
      ]
    },
    {
      "cell_type": "code",
      "execution_count": null,
      "id": "2a8583bc",
      "metadata": {
        "id": "2a8583bc"
      },
      "outputs": [],
      "source": [
        "# this is a comment \n",
        "'come' # you are to come "
      ]
    },
    {
      "cell_type": "markdown",
      "id": "2bce4ec4",
      "metadata": {
        "id": "2bce4ec4"
      },
      "source": [
        "# some already made functions for you \n",
        " The print() function displays the string value inside the parentheses on the screen.\n",
        "print('Hello World')\n",
        "You can also use this function to put a blank line on the screen; just call print() with nothing in between the parentheses."
      ]
    },
    {
      "cell_type": "markdown",
      "id": "94e40d1d",
      "metadata": {
        "id": "94e40d1d"
      },
      "source": [
        "# printing a string\n",
        "Using Jupyter notebook with just a string in a cell will automatically output strings, but the correct way to display strings in your output is by using a print function print()."
      ]
    },
    {
      "cell_type": "code",
      "execution_count": null,
      "id": "873dbd9b",
      "metadata": {
        "id": "873dbd9b"
      },
      "outputs": [],
      "source": [
        "print('Hello world')"
      ]
    },
    {
      "cell_type": "markdown",
      "id": "7f312ad8",
      "metadata": {
        "id": "7f312ad8"
      },
      "source": [
        "# string replication\n",
        "This is use to multiply strings with the (*) sign \n"
      ]
    },
    {
      "cell_type": "code",
      "execution_count": null,
      "id": "cc439a24",
      "metadata": {
        "id": "cc439a24"
      },
      "outputs": [],
      "source": [
        "print('come ' * 7)\n",
        "#Rules replecation can not work with word and can not work with floats"
      ]
    },
    {
      "cell_type": "markdown",
      "id": "bbf463aa",
      "metadata": {
        "id": "bbf463aa"
      },
      "source": [
        "# len\n",
        "You can pass the len() function a string value (or a variable containing a\n",
        "string), and the function evaluates to the integer value of the number of\n",
        "characters in that string.\n",
        "*** It counts every latter in a string or word.***"
      ]
    },
    {
      "cell_type": "code",
      "execution_count": null,
      "id": "2669b2da",
      "metadata": {
        "id": "2669b2da"
      },
      "outputs": [],
      "source": [
        "len('Chris')"
      ]
    },
    {
      "cell_type": "markdown",
      "id": "244e8e4a",
      "metadata": {
        "id": "244e8e4a"
      },
      "source": [
        "# Storing Values in Variables\n",
        "A variable is like a box in the computer’s memory where you can store a single\n",
        "value. If you want to use the result of an evaluated expression later in your\n",
        "program, you can save it inside a variable.\n",
        "## Assignment Statements\n",
        "You’ll store values in variables with an assignment statement. An assignment\n",
        "statement consists of a variable name, an equal sign (called the assignment\n",
        "operator), and the value to be stored. If you enter the assignment statement spam\n",
        "= 42, then a variable named spam will have the integer value 42 stored in it."
      ]
    },
    {
      "cell_type": "code",
      "execution_count": null,
      "id": "455f96be",
      "metadata": {
        "id": "455f96be"
      },
      "outputs": [],
      "source": [
        "Name = 'Boni'\n",
        "print(Name)"
      ]
    },
    {
      "cell_type": "code",
      "source": [
        "# you can assign multiple variables \n",
        "\n",
        "x,y,z = 'a','b','c'\n",
        "print(x)\n",
        "print(y)\n",
        "print(z)"
      ],
      "metadata": {
        "colab": {
          "base_uri": "https://localhost:8080/"
        },
        "id": "rBqV_CTppod6",
        "outputId": "ac340ce3-8e44-40db-e1a9-e1fe9d2fd852"
      },
      "id": "rBqV_CTppod6",
      "execution_count": 3,
      "outputs": [
        {
          "output_type": "stream",
          "name": "stdout",
          "text": [
            "a\n",
            "b\n",
            "c\n"
          ]
        }
      ]
    },
    {
      "cell_type": "markdown",
      "id": "f8a189f7",
      "metadata": {
        "id": "f8a189f7"
      },
      "source": [
        "## Reassigning Variables\n",
        "Python lets you reassign variables with a reference to the same object."
      ]
    },
    {
      "cell_type": "code",
      "execution_count": null,
      "id": "14297abb",
      "metadata": {
        "id": "14297abb"
      },
      "outputs": [],
      "source": [
        "Name = 'Chris'\n",
        "print(Name)"
      ]
    },
    {
      "cell_type": "markdown",
      "id": "ba263616",
      "metadata": {
        "id": "ba263616"
      },
      "source": [
        "## Dynamic Typing\n",
        "\n",
        "Python uses *dynamic typing*, meaning you can reassign variables to different data types. This makes Python very flexible in assigning data types; it differs from other languages that are *statically typed*."
      ]
    },
    {
      "cell_type": "code",
      "execution_count": null,
      "id": "cd1d7cbd",
      "metadata": {
        "id": "cd1d7cbd"
      },
      "outputs": [],
      "source": [
        "Forty = 40\n",
        "type(Forty)"
      ]
    },
    {
      "cell_type": "code",
      "execution_count": null,
      "id": "5d46b4b9",
      "metadata": {
        "id": "5d46b4b9"
      },
      "outputs": [],
      "source": [
        "Food = 'yam'\n",
        "type(Food)"
      ]
    },
    {
      "cell_type": "code",
      "execution_count": null,
      "id": "abd285f3",
      "metadata": {
        "id": "abd285f3"
      },
      "outputs": [],
      "source": [
        "Number = 8\n",
        "Number"
      ]
    },
    {
      "cell_type": "markdown",
      "id": "b582283e",
      "metadata": {
        "id": "b582283e"
      },
      "source": [
        "Len function a strings"
      ]
    },
    {
      "cell_type": "code",
      "execution_count": null,
      "id": "d9d3e5d9",
      "metadata": {
        "id": "d9d3e5d9"
      },
      "outputs": [],
      "source": [
        "print('The length of your name is:')\n",
        "my_name = input('What is your name ')\n",
        "print(len(my_name))"
      ]
    },
    {
      "cell_type": "code",
      "execution_count": null,
      "id": "2e1c3991",
      "metadata": {
        "id": "2e1c3991"
      },
      "outputs": [],
      "source": [
        "Total = Forty * Number\n",
        "Total"
      ]
    },
    {
      "cell_type": "code",
      "execution_count": null,
      "id": "bf81ec1d",
      "metadata": {
        "id": "bf81ec1d",
        "outputId": "649179c8-74b5-4f73-dc77-466b69d245ef"
      },
      "outputs": [
        {
          "name": "stdout",
          "output_type": "stream",
          "text": [
            "40\n",
            "<class 'int'>\n"
          ]
        }
      ],
      "source": [
        "var_forty = 40\n",
        "print(var_forty)\n",
        "print(type(30))"
      ]
    },
    {
      "cell_type": "markdown",
      "id": "87593121",
      "metadata": {
        "id": "87593121"
      },
      "source": [
        "### Pros and Cons of Dynamic Typing\n",
        "#### Pros of Dynamic Typing\n",
        "* very easy to work with\n",
        "* faster development time\n",
        "\n",
        "#### Cons of Dynamic Typing\n",
        "* may result in unexpected bugs!\n",
        "* you need to be aware of `type()`"
      ]
    },
    {
      "cell_type": "markdown",
      "id": "24d6d15f",
      "metadata": {
        "id": "24d6d15f"
      },
      "source": [
        "# Rules of variables \n",
        "You can name a variable\n",
        "anything as long as it obeys the following three rules:\n",
        "* names can not start with a number\n",
        "* names can not contain spaces, use _ intead\n",
        "* names can not contain any of these symbols:\n",
        "\n",
        "      :'\",<>/?|\\!@#%^&*~-+\n",
        "       \n",
        "* it's considered best practice ([PEP8](https://www.python.org/dev/peps/pep-0008/#function-and-variable-names)) that names are lowercase with underscores\n",
        "* avoid using Python built-in keywords like `list` and `str`\n",
        "* avoid using the single characters `l` (lowercase letter el), `O` (uppercase letter oh) and `I` (uppercase letter eye) as they can be confused with `1` and `0`.\n",
        "** A good variable name describes the data it contains. Imagine that you moved to\n",
        "a new house and labeled all of your moving boxes as Stuff. You’d never find\n",
        "anything! The variable names spam, eggs, and bacon are used as generic names.\n",
        "Always give your programs a descriptive name it will help your code to be more readable."
      ]
    },
    {
      "cell_type": "code",
      "execution_count": null,
      "id": "2c0f401e",
      "metadata": {
        "id": "2c0f401e",
        "outputId": "2d46d12b-dbd6-4a97-b334-67d6046a53e7"
      },
      "outputs": [
        {
          "ename": "SyntaxError",
          "evalue": "cannot assign to True (<ipython-input-6-c6ec369cb791>, line 1)",
          "output_type": "error",
          "traceback": [
            "\u001b[1;36m  File \u001b[1;32m\"<ipython-input-6-c6ec369cb791>\"\u001b[1;36m, line \u001b[1;32m1\u001b[0m\n\u001b[1;33m    True = 4\u001b[0m\n\u001b[1;37m    ^\u001b[0m\n\u001b[1;31mSyntaxError\u001b[0m\u001b[1;31m:\u001b[0m cannot assign to True\n"
          ]
        }
      ],
      "source": [
        "True = 4\n",
        "print(str)"
      ]
    },
    {
      "cell_type": "markdown",
      "id": "127e98cf",
      "metadata": {
        "id": "127e98cf"
      },
      "source": [
        "# input function \n",
        "The input() function waits for the user to type some text on the keyboard and press ENTER.\n",
        "This function call evaluates to a string equal to the user’s text,"
      ]
    },
    {
      "cell_type": "code",
      "execution_count": null,
      "id": "9929c272",
      "metadata": {
        "id": "9929c272",
        "outputId": "5c399896-b72b-44a8-f92f-ff9d7f418adb"
      },
      "outputs": [
        {
          "name": "stdout",
          "output_type": "stream",
          "text": [
            "what is you name? Shade\n",
            "your name is: Shade\n"
          ]
        }
      ],
      "source": [
        "name = input('what is you name? ')\n",
        "print('your name is: ' + name)"
      ]
    },
    {
      "cell_type": "code",
      "execution_count": null,
      "id": "1a83a5ff",
      "metadata": {
        "id": "1a83a5ff",
        "outputId": "b4a58afc-4504-4fe0-8af3-b47b4f8ce86a"
      },
      "outputs": [
        {
          "name": "stdout",
          "output_type": "stream",
          "text": [
            "what you your age?100\n",
            "Your name is  Chucks and your age is 100\n"
          ]
        }
      ],
      "source": [
        "age = input('what you your age?')\n",
        "print('Your name is  ' + name + ' and your age is ' + age)\n"
      ]
    },
    {
      "cell_type": "code",
      "execution_count": null,
      "id": "e5098d91",
      "metadata": {
        "id": "e5098d91"
      },
      "outputs": [],
      "source": [
        "int(age)"
      ]
    },
    {
      "cell_type": "markdown",
      "id": "3faab510",
      "metadata": {
        "id": "3faab510"
      },
      "source": [
        "## Determining variable type with `type()`\n",
        "You can check what type of object is assigned to a variable using Python's built-in `type()` function. Common data types include:\n",
        "* **int** (for integer)\n",
        "* **float**\n",
        "* **str** (for string)\n",
        "* **list**\n",
        "* **tuple**\n",
        "* **dict** (for dictionary)\n",
        "* **set**\n",
        "* **bool** (for Boolean True/False)"
      ]
    },
    {
      "cell_type": "code",
      "execution_count": null,
      "id": "2fd62734",
      "metadata": {
        "id": "2fd62734"
      },
      "outputs": [],
      "source": []
    },
    {
      "cell_type": "markdown",
      "id": "9ac46c22",
      "metadata": {
        "id": "9ac46c22"
      },
      "source": [
        "# The str(), int(), and float() Functions for conversion.\n",
        "example below \n"
      ]
    },
    {
      "cell_type": "code",
      "execution_count": null,
      "id": "e9857652",
      "metadata": {
        "id": "e9857652"
      },
      "outputs": [],
      "source": [
        "print(var_forty) # is to print the variable 40\n",
        "int_to_str = str(var_forty) # to convert string to aan int and store it in a variable.\n",
        "print(int_to_str)\n",
        "print(type(int_to_str))\n",
        "print(type(var_forty))"
      ]
    },
    {
      "cell_type": "markdown",
      "id": "6f93ad89",
      "metadata": {
        "id": "6f93ad89"
      },
      "source": [
        "# string indexing "
      ]
    },
    {
      "cell_type": "code",
      "execution_count": null,
      "id": "349163c5",
      "metadata": {
        "id": "349163c5",
        "outputId": "81b9f868-532f-4621-b356-c07713567396",
        "colab": {
          "base_uri": "https://localhost:8080/"
        }
      },
      "outputs": [
        {
          "output_type": "stream",
          "name": "stdout",
          "text": [
            "Python\n"
          ]
        }
      ],
      "source": [
        "name = 'Python'\n",
        "print(name)"
      ]
    },
    {
      "cell_type": "code",
      "execution_count": null,
      "id": "e2b6b426",
      "metadata": {
        "id": "e2b6b426",
        "outputId": "c96151a2-4653-4f49-adee-7e43d9dc6346",
        "colab": {
          "base_uri": "https://localhost:8080/"
        }
      },
      "outputs": [
        {
          "output_type": "stream",
          "name": "stdout",
          "text": [
            "n\n"
          ]
        }
      ],
      "source": [
        "print(name[5])"
      ]
    },
    {
      "cell_type": "code",
      "execution_count": null,
      "id": "4f68ec19",
      "metadata": {
        "id": "4f68ec19",
        "outputId": "2d9b87b8-dba7-4100-b0f6-e6eb0a61aa0a",
        "colab": {
          "base_uri": "https://localhost:8080/"
        }
      },
      "outputs": [
        {
          "output_type": "stream",
          "name": "stdout",
          "text": [
            "y\n"
          ]
        }
      ],
      "source": [
        "print(name[1])"
      ]
    },
    {
      "cell_type": "markdown",
      "id": "e0afd383",
      "metadata": {
        "id": "e0afd383"
      },
      "source": [
        "# string slicing \n",
        "use to pick items or words or grab everything in a variable "
      ]
    },
    {
      "cell_type": "code",
      "execution_count": null,
      "id": "8b380fd2",
      "metadata": {
        "id": "8b380fd2",
        "colab": {
          "base_uri": "https://localhost:8080/"
        },
        "outputId": "107d94f2-f38f-4881-fe53-8680fd4b9770"
      },
      "outputs": [
        {
          "output_type": "stream",
          "name": "stdout",
          "text": [
            "face\n"
          ]
        }
      ],
      "source": [
        "name = \"Boniface\"\n",
        "print(name[4:])\n",
        "# pick everything after the first item "
      ]
    },
    {
      "cell_type": "code",
      "execution_count": null,
      "id": "079a2156",
      "metadata": {
        "id": "079a2156"
      },
      "outputs": [],
      "source": [
        "print(name[:4])"
      ]
    },
    {
      "cell_type": "code",
      "execution_count": null,
      "id": "c160a87c",
      "metadata": {
        "id": "c160a87c"
      },
      "outputs": [],
      "source": [
        "print(name[:3])"
      ]
    },
    {
      "cell_type": "code",
      "execution_count": null,
      "id": "8da40fe8",
      "metadata": {
        "id": "8da40fe8"
      },
      "outputs": [],
      "source": [
        "print(name[:])"
      ]
    },
    {
      "cell_type": "markdown",
      "id": "df859d2c",
      "metadata": {
        "id": "df859d2c"
      },
      "source": [
        "We can also use negative indexing to go backwards."
      ]
    },
    {
      "cell_type": "code",
      "execution_count": null,
      "id": "071d9d8d",
      "metadata": {
        "id": "071d9d8d",
        "colab": {
          "base_uri": "https://localhost:8080/"
        },
        "outputId": "3b76544a-77b0-4d5e-f38b-44966aa647c5"
      },
      "outputs": [
        {
          "output_type": "stream",
          "name": "stdout",
          "text": [
            "e\n"
          ]
        }
      ],
      "source": [
        "print(name[-1])"
      ]
    },
    {
      "cell_type": "code",
      "execution_count": null,
      "id": "a6db8bfe",
      "metadata": {
        "id": "a6db8bfe"
      },
      "outputs": [],
      "source": [
        "print(name[:-1])"
      ]
    },
    {
      "cell_type": "markdown",
      "id": "3d58ef95",
      "metadata": {
        "id": "3d58ef95"
      },
      "source": [
        "We can also use index and slice notation to grab elements of a sequence by a specified step size (the default is 1). For instance we can use two colons in a row and then a number specifying the frequency to grab elements. For example:"
      ]
    },
    {
      "cell_type": "code",
      "execution_count": null,
      "id": "d4db676f",
      "metadata": {
        "id": "d4db676f",
        "colab": {
          "base_uri": "https://localhost:8080/"
        },
        "outputId": "ce1eb1f4-865f-46f5-946e-0c5aa2cf7336"
      },
      "outputs": [
        {
          "output_type": "stream",
          "name": "stdout",
          "text": [
            "Boniface\n"
          ]
        }
      ],
      "source": [
        "print(name[::1])"
      ]
    },
    {
      "cell_type": "code",
      "execution_count": null,
      "id": "ac396136",
      "metadata": {
        "id": "ac396136",
        "colab": {
          "base_uri": "https://localhost:8080/"
        },
        "outputId": "11875439-b92e-4025-8a66-785f6d602c47"
      },
      "outputs": [
        {
          "output_type": "stream",
          "name": "stdout",
          "text": [
            "Bnfc\n"
          ]
        }
      ],
      "source": [
        "print(name[::2])"
      ]
    },
    {
      "cell_type": "code",
      "execution_count": null,
      "id": "58a83148",
      "metadata": {
        "id": "58a83148"
      },
      "outputs": [],
      "source": [
        "#we can also print backwards\n",
        "print(name[::-1])"
      ]
    },
    {
      "cell_type": "markdown",
      "id": "d082eacf",
      "metadata": {
        "id": "d082eacf"
      },
      "source": [
        "# String concatenation \n",
        "use to join strings together (+)"
      ]
    },
    {
      "cell_type": "code",
      "execution_count": null,
      "id": "db707760",
      "metadata": {
        "id": "db707760"
      },
      "outputs": [],
      "source": [
        "Sur_name = ' Ben'\n",
        "print(Sur_name)"
      ]
    },
    {
      "cell_type": "code",
      "execution_count": null,
      "id": "3ffb3eea",
      "metadata": {
        "id": "3ffb3eea"
      },
      "outputs": [],
      "source": [
        "full_name = name + Sur_name\n",
        "print(full_name)"
      ]
    },
    {
      "cell_type": "code",
      "execution_count": null,
      "id": "db34d65d",
      "metadata": {
        "id": "db34d65d"
      },
      "outputs": [],
      "source": [
        "print(full_name.upper())"
      ]
    },
    {
      "cell_type": "markdown",
      "id": "270129b3",
      "metadata": {
        "id": "270129b3"
      },
      "source": [
        "## string Formatting\n",
        "\n",
        "We can use the .format() method to add formatted objects to printed string statements. \n",
        "\n",
        "The easiest way to show this is through an example:"
      ]
    },
    {
      "cell_type": "code",
      "execution_count": null,
      "id": "8c7a22c2",
      "metadata": {
        "id": "8c7a22c2"
      },
      "outputs": [],
      "source": [
        "print('my name is Ben {}'.format ('I am a boy'))"
      ]
    },
    {
      "cell_type": "code",
      "execution_count": null,
      "id": "2ffec366",
      "metadata": {
        "id": "2ffec366"
      },
      "outputs": [],
      "source": [
        "print(f'my name is {full_name}')"
      ]
    },
    {
      "cell_type": "code",
      "execution_count": 1,
      "id": "2aa36fe8",
      "metadata": {
        "id": "2aa36fe8",
        "outputId": "1d25c39b-d368-413b-b516-f1d78ba1e0db",
        "colab": {
          "base_uri": "https://localhost:8080/"
        }
      },
      "outputs": [
        {
          "output_type": "stream",
          "name": "stdout",
          "text": [
            "what is your name here\n",
            "Please your age 10\n",
            "where do you liveLAGOD\n",
            "your name is here and your age is 10\n"
          ]
        }
      ],
      "source": [
        "name = input('what is your name ')\n",
        "age = int(input('Please your age '))\n",
        "location = input('where do you live') \n",
        "about_you = print(f'your name is {name} and your age is {age}')"
      ]
    },
    {
      "cell_type": "code",
      "execution_count": null,
      "id": "e63dfab3",
      "metadata": {
        "id": "e63dfab3"
      },
      "outputs": [],
      "source": [
        "height = 50 "
      ]
    },
    {
      "cell_type": "code",
      "execution_count": null,
      "id": "da9301e0",
      "metadata": {
        "id": "da9301e0",
        "outputId": "c029a47d-2a39-43f0-a790-98c84b864e31"
      },
      "outputs": [
        {
          "data": {
            "text/plain": [
              "int"
            ]
          },
          "execution_count": 36,
          "metadata": {},
          "output_type": "execute_result"
        }
      ],
      "source": [
        "type(height)"
      ]
    },
    {
      "cell_type": "code",
      "execution_count": null,
      "id": "681c38e2",
      "metadata": {
        "id": "681c38e2",
        "outputId": "b5f5b7d5-a72d-413d-ab68-f7f6a6b06bf8"
      },
      "outputs": [
        {
          "data": {
            "text/plain": [
              "50.0"
            ]
          },
          "execution_count": 39,
          "metadata": {},
          "output_type": "execute_result"
        }
      ],
      "source": [
        "int_to_float = float(height)\n",
        "int_to_float"
      ]
    },
    {
      "cell_type": "code",
      "execution_count": null,
      "id": "588ba73f",
      "metadata": {
        "id": "588ba73f",
        "outputId": "f3f2872f-4def-4825-a936-00b3b2f802ea"
      },
      "outputs": [
        {
          "data": {
            "text/plain": [
              "50"
            ]
          },
          "execution_count": 41,
          "metadata": {},
          "output_type": "execute_result"
        }
      ],
      "source": [
        "float_to_int = int(int_to_float)\n",
        "float_to_int"
      ]
    },
    {
      "cell_type": "code",
      "execution_count": null,
      "id": "626ac0e0",
      "metadata": {
        "id": "626ac0e0"
      },
      "outputs": [],
      "source": []
    }
  ],
  "metadata": {
    "kernelspec": {
      "display_name": "Python 3",
      "language": "python",
      "name": "python3"
    },
    "language_info": {
      "codemirror_mode": {
        "name": "ipython",
        "version": 3
      },
      "file_extension": ".py",
      "mimetype": "text/x-python",
      "name": "python",
      "nbconvert_exporter": "python",
      "pygments_lexer": "ipython3",
      "version": "3.8.8"
    },
    "colab": {
      "provenance": [],
      "include_colab_link": true
    }
  },
  "nbformat": 4,
  "nbformat_minor": 5
}