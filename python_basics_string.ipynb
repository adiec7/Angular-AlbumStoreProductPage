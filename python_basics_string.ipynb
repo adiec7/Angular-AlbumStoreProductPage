{
  "cells": [
    {
      "cell_type": "markdown",
      "metadata": {
        "id": "view-in-github",
        "colab_type": "text"
      },
      "source": [
        "<a href=\"https://colab.research.google.com/github/adiec7/Angular-AlbumStoreProductPage/blob/master/python_basics_string.ipynb\" target=\"_parent\"><img src=\"https://colab.research.google.com/assets/colab-badge.svg\" alt=\"Open In Colab\"/></a>"
      ]
    },
    {
      "cell_type": "markdown",
      "id": "49125307",
      "metadata": {
        "id": "49125307"
      },
      "source": [
        "We already install python now open your IDLE (Integrated Development and Learning Environment) this is where your will type your code for now before we move to a code editor or an IDE (integrated development environment).\n",
        "# Datatype\n",
        "In programming, data type is an important concept.\n",
        "\n",
        "Variables can store data of different types, and different types can do different things.\n",
        "\n",
        "Python has the following data types built-in by default, in these categories:\n",
        "Text Type:\tstr (string\n",
        "Numeric Types:\tint, float, complex\n",
        "Sequence Types:\tlist, tuple, range\n",
        "Mapping Type:\tdict\n",
        "Set Types:\tset, frozenset\n",
        "Boolean Type:\tbool\n",
        "Binary Types:\tbytes, bytearray, memoryview\n",
        "None Type:\tNoneType."
      ]
    },
    {
      "cell_type": "code",
      "execution_count": null,
      "id": "279d0e17",
      "metadata": {
        "id": "279d0e17",
        "outputId": "8bf3c31f-0457-4619-f86f-beaa10b4deaf"
      },
      "outputs": [
        {
          "data": {
            "text/plain": [
              "('come', 'go', 'Chris')"
            ]
          },
          "execution_count": 2,
          "metadata": {},
          "output_type": "execute_result"
        }
      ],
      "source": [
        "\n",
        "#string str pronounce as 'stirs'.\n",
        "# enclosed in a single quotation mark or a double quotation mark\n",
        "# these are text your normal english text, latters,and words.\n",
        "# empty quotation ('') is called a blank strings\n",
        "# Examples\n",
        "'a','b','c','d'\n",
        "\"a\",\"b\",\"c\",\"d\"\n",
        "'come','go',\"Chris\"\n"
      ]
    },
    {
      "cell_type": "code",
      "execution_count": null,
      "id": "3455e315",
      "metadata": {
        "id": "3455e315",
        "outputId": "0bea7fd2-1822-4000-c09e-773fd20e65fa"
      },
      "outputs": [
        {
          "data": {
            "text/plain": [
              "'Teen Church'"
            ]
          },
          "execution_count": 11,
          "metadata": {},
          "output_type": "execute_result"
        }
      ],
      "source": [
        "#Some operations on strings \n",
        "# Contatenation and replecation \n",
        "# in strings the (+) sign join words together \n",
        "#Example\n",
        "'Teen' + ' '+'Church'\n",
        "\n"
      ]
    },
    {
      "cell_type": "code",
      "execution_count": null,
      "id": "fae412bc",
      "metadata": {
        "id": "fae412bc",
        "outputId": "e025f571-ea0d-4b44-c2aa-e36c987304d0"
      },
      "outputs": [
        {
          "data": {
            "text/plain": [
              "'4030'"
            ]
          },
          "execution_count": 16,
          "metadata": {},
          "output_type": "execute_result"
        }
      ],
      "source": [
        "#Note you can not concatenate a string and a number see example below \n",
        "#'Class ' + '60'\n",
        "'40' + '30'"
      ]
    },
    {
      "cell_type": "code",
      "execution_count": null,
      "id": "9ab7a80f",
      "metadata": {
        "id": "9ab7a80f",
        "outputId": "308ced73-f507-4838-9cd5-ab594d1d0b16"
      },
      "outputs": [
        {
          "data": {
            "text/plain": [
              "'class 40'"
            ]
          },
          "execution_count": 17,
          "metadata": {},
          "output_type": "execute_result"
        }
      ],
      "source": [
        "#you can convert a number to string in other to concatenate\n",
        "'class ' + str(40)"
      ]
    },
    {
      "cell_type": "code",
      "execution_count": null,
      "id": "cc439a24",
      "metadata": {
        "id": "cc439a24",
        "outputId": "aa05cb3c-202f-4d75-b40b-d88b7d935d98"
      },
      "outputs": [
        {
          "data": {
            "text/plain": [
              "'Teens Teens Teens Teens Teens Teens Teens '"
            ]
          },
          "execution_count": 19,
          "metadata": {},
          "output_type": "execute_result"
        }
      ],
      "source": [
        "#Replecation\n",
        "# The (*) is used to replecate words in  python\n",
        "var_multiplecation = 'Teens ' * 7\n",
        "var_multiplecation\n",
        "#Rules replecation can not work with word and can not work with floats"
      ]
    },
    {
      "cell_type": "markdown",
      "id": "244e8e4a",
      "metadata": {
        "id": "244e8e4a"
      },
      "source": [
        "# Storing Values in Variables\n",
        "A variable is like a box in the computer’s memory where you can store a single\n",
        "value. If you want to use the result of an evaluated expression later in your\n",
        "program, you can save it inside a variable.\n",
        "## Assignment Statements\n",
        "You’ll store values in variables with an assignment statement. An assignment\n",
        "statement consists of a variable name, an equal sign (called the assignment\n",
        "operator), and the value to be stored. If you enter the assignment statement spam\n",
        "= 42, then a variable named spam will have the integer value 42 stored in it."
      ]
    },
    {
      "cell_type": "code",
      "execution_count": null,
      "id": "cd1d7cbd",
      "metadata": {
        "id": "cd1d7cbd",
        "outputId": "12c3e6e6-f74b-45ff-9e39-beb5a9754820"
      },
      "outputs": [
        {
          "data": {
            "text/plain": [
              "int"
            ]
          },
          "execution_count": 21,
          "metadata": {},
          "output_type": "execute_result"
        }
      ],
      "source": [
        "Forty = 40\n",
        "type(Forty)"
      ]
    },
    {
      "cell_type": "code",
      "execution_count": null,
      "id": "5d46b4b9",
      "metadata": {
        "id": "5d46b4b9",
        "outputId": "e522b905-03e4-4cbd-bbe7-8dd525b756e5"
      },
      "outputs": [
        {
          "data": {
            "text/plain": [
              "str"
            ]
          },
          "execution_count": 22,
          "metadata": {},
          "output_type": "execute_result"
        }
      ],
      "source": [
        "Food = 'yam'\n",
        "type(Food)"
      ]
    },
    {
      "cell_type": "code",
      "execution_count": null,
      "id": "abd285f3",
      "metadata": {
        "id": "abd285f3",
        "outputId": "5daebf26-1a5a-4fe5-f900-545ab69959a7"
      },
      "outputs": [
        {
          "data": {
            "text/plain": [
              "8"
            ]
          },
          "execution_count": 11,
          "metadata": {},
          "output_type": "execute_result"
        }
      ],
      "source": [
        "Number = 8\n",
        "Number"
      ]
    },
    {
      "cell_type": "code",
      "execution_count": null,
      "id": "2e1c3991",
      "metadata": {
        "id": "2e1c3991",
        "outputId": "2847b575-a6ce-49d0-a8e4-a47c5e2ad6d3"
      },
      "outputs": [
        {
          "data": {
            "text/plain": [
              "320"
            ]
          },
          "execution_count": 12,
          "metadata": {},
          "output_type": "execute_result"
        }
      ],
      "source": [
        "Total = Forty * Number\n",
        "Total"
      ]
    },
    {
      "cell_type": "code",
      "execution_count": null,
      "id": "4d2b5144",
      "metadata": {
        "id": "4d2b5144",
        "outputId": "5b806ed1-47b3-4526-ee2b-11df8c4638c3"
      },
      "outputs": [
        {
          "data": {
            "text/plain": [
              "'Rice Rice Rice Rice Rice Rice Rice Rice Rice Rice '"
            ]
          },
          "execution_count": 24,
          "metadata": {},
          "output_type": "execute_result"
        }
      ],
      "source": [
        "#You can over write a variable\n",
        "Food = 'Rice '\n",
        "Food * 10"
      ]
    },
    {
      "cell_type": "markdown",
      "id": "24d6d15f",
      "metadata": {
        "id": "24d6d15f"
      },
      "source": [
        "# Rules of variables \n",
        "You can name a variable\n",
        "anything as long as it obeys the following three rules:\n",
        "1. It can be only one word.\n",
        "2. It can  only letters, numbers, and the underscore (_) character.\n",
        "3. It can’t begin with a number.\n",
        "current-balance (hyphens are not allowed)\n",
        "current balance (spaces are not allowed)\n",
        "4account (can’t begin with a number)\n",
        "42 (can’t begin with a number)\n",
        "total_$um (special characters like $ are not allowed)\n",
        "'hello' (special characters like ' are not allowed)\n",
        "Note: variable names are case sensitive.\n",
        "** A good variable name describes the data it contains. Imagine that you moved to\n",
        "a new house and labeled all of your moving boxes as Stuff. You’d never find\n",
        "anything! The variable names spam, eggs, and bacon are used as generic names.\n",
        "Always give your programs a descriptive name it will help your code to be more readable."
      ]
    },
    {
      "cell_type": "code",
      "execution_count": null,
      "id": "8021c2f4",
      "metadata": {
        "id": "8021c2f4",
        "outputId": "1c04353e-9bc9-4604-8860-b2c5040b92ce"
      },
      "outputs": [
        {
          "ename": "SyntaxError",
          "evalue": "invalid syntax (<ipython-input-1-dde9d009c10a>, line 3)",
          "output_type": "error",
          "traceback": [
            "\u001b[1;36m  File \u001b[1;32m\"<ipython-input-1-dde9d009c10a>\"\u001b[1;36m, line \u001b[1;32m3\u001b[0m\n\u001b[1;33m    yourself what the code is trying to do. Any text for the rest of the line following\u001b[0m\n\u001b[1;37m             ^\u001b[0m\n\u001b[1;31mSyntaxError\u001b[0m\u001b[1;31m:\u001b[0m invalid syntax\n"
          ]
        }
      ],
      "source": [
        "# comments\n",
        "# Python ignores comments, and you can use them to write notes or remind\n",
        "yourself what the code is trying to do. Any text for the rest of the line following\n",
        "a hash mark (#) is part of a comment.\n",
        "#Sometimes, programmers will put a # in front of a line of code to temporarily\n",
        "remove it while testing a program. This is called commenting out code, and it\n",
        "can be useful when you’re trying to figure out why a program doesn’t work. You\n",
        "can remove the # later when you are ready to put the line back in."
      ]
    },
    {
      "cell_type": "code",
      "execution_count": null,
      "id": "5f2dd436",
      "metadata": {
        "id": "5f2dd436",
        "outputId": "3db9bf09-11a5-4c8c-c0d5-b271fb0a6d76"
      },
      "outputs": [
        {
          "name": "stdout",
          "output_type": "stream",
          "text": [
            "Hello World\n"
          ]
        }
      ],
      "source": [
        "# some already made functions for you \n",
        "# The print() function displays the string value inside the parentheses on the screen.\n",
        "print('Hello World')\n",
        "# You can also use this function to put a blank line on the screen; just call print() with nothing in between the parentheses."
      ]
    },
    {
      "cell_type": "code",
      "execution_count": null,
      "id": "578b23db",
      "metadata": {
        "id": "578b23db",
        "outputId": "008b5f55-f30f-4732-ca0c-555ac9796369"
      },
      "outputs": [
        {
          "name": "stdout",
          "output_type": "stream",
          "text": [
            "what is you name?chris\n"
          ]
        }
      ],
      "source": [
        "#input function \n",
        "#The input() function waits for the user to type some text on the keyboard and press ENTER.\n",
        "name = input('what is you name?')\n",
        "# This function call evaluates to a string equal to the user’s text, and the previous\n",
        "#line of code assigns the myName variable to this string value"
      ]
    },
    {
      "cell_type": "code",
      "execution_count": null,
      "id": "e7d8e7a1",
      "metadata": {
        "id": "e7d8e7a1",
        "outputId": "d397707a-160f-4035-ad73-1c3197d6494c"
      },
      "outputs": [
        {
          "name": "stdout",
          "output_type": "stream",
          "text": [
            "The length of your name is:\n",
            "5\n"
          ]
        }
      ],
      "source": [
        "#len\n",
        "# You can pass the len() function a string value (or a variable containing a\n",
        "#string), and the function evaluates to the integer value of the number of\n",
        "#characters in that string.\n",
        "print('The length of your name is:')\n",
        "my_name = 'Chris'\n",
        "print(len(my_name))"
      ]
    },
    {
      "cell_type": "code",
      "execution_count": null,
      "id": "63bfe20c",
      "metadata": {
        "id": "63bfe20c",
        "outputId": "69ad311a-bfb6-48bb-d924-835a58ce7ab3"
      },
      "outputs": [
        {
          "data": {
            "text/plain": [
              "'Teens Teens Teens Teens Teens Teens Teens '"
            ]
          },
          "execution_count": 20,
          "metadata": {},
          "output_type": "execute_result"
        }
      ],
      "source": [
        "# The str(), int(), and float() Functions If you\n",
        "\n"
      ]
    },
    {
      "cell_type": "code",
      "execution_count": null,
      "id": "0ea3130b",
      "metadata": {
        "id": "0ea3130b",
        "outputId": "db1323cd-fa9c-4aae-a87c-1d658a57e564"
      },
      "outputs": [
        {
          "data": {
            "text/plain": [
              "int"
            ]
          },
          "execution_count": 29,
          "metadata": {},
          "output_type": "execute_result"
        }
      ],
      "source": [
        "thirty = 30\n",
        "type(thirty)"
      ]
    },
    {
      "cell_type": "code",
      "execution_count": null,
      "id": "349163c5",
      "metadata": {
        "id": "349163c5",
        "outputId": "c0c69cb7-16ae-4fed-969f-c25b6bb1f412"
      },
      "outputs": [
        {
          "data": {
            "text/plain": [
              "20"
            ]
          },
          "execution_count": 30,
          "metadata": {},
          "output_type": "execute_result"
        }
      ],
      "source": [
        "twenty = 20\n",
        "twenty"
      ]
    },
    {
      "cell_type": "code",
      "execution_count": null,
      "id": "e2b6b426",
      "metadata": {
        "id": "e2b6b426",
        "outputId": "9583d98b-494f-495a-e93e-3552edd74ba6"
      },
      "outputs": [
        {
          "data": {
            "text/plain": [
              "50"
            ]
          },
          "execution_count": 31,
          "metadata": {},
          "output_type": "execute_result"
        }
      ],
      "source": [
        "thirty + twenty"
      ]
    },
    {
      "cell_type": "code",
      "execution_count": null,
      "id": "4f68ec19",
      "metadata": {
        "id": "4f68ec19",
        "outputId": "ad829ef9-8e06-43d0-9e2b-d3531f630756"
      },
      "outputs": [
        {
          "data": {
            "text/plain": [
              "40"
            ]
          },
          "execution_count": 33,
          "metadata": {},
          "output_type": "execute_result"
        }
      ],
      "source": [
        "number = 40 \n",
        "number"
      ]
    },
    {
      "cell_type": "code",
      "execution_count": null,
      "id": "227bfb9f",
      "metadata": {
        "id": "227bfb9f",
        "outputId": "3f8562e5-3b8b-4744-f9ab-2bbdcaa7caf7"
      },
      "outputs": [
        {
          "data": {
            "text/plain": [
              "int"
            ]
          },
          "execution_count": 34,
          "metadata": {},
          "output_type": "execute_result"
        }
      ],
      "source": [
        "type(number)"
      ]
    },
    {
      "cell_type": "code",
      "execution_count": null,
      "id": "8b380fd2",
      "metadata": {
        "id": "8b380fd2",
        "outputId": "139d0094-477b-486e-ffd5-208942f7cef4"
      },
      "outputs": [
        {
          "data": {
            "text/plain": [
              "40.0"
            ]
          },
          "execution_count": 40,
          "metadata": {},
          "output_type": "execute_result"
        }
      ],
      "source": [
        "number_float = float(number)\n",
        "number_float"
      ]
    },
    {
      "cell_type": "code",
      "execution_count": null,
      "id": "079a2156",
      "metadata": {
        "id": "079a2156",
        "outputId": "86493e29-ab07-464d-ec12-dea4214ac64e"
      },
      "outputs": [
        {
          "data": {
            "text/plain": [
              "int"
            ]
          },
          "execution_count": 38,
          "metadata": {},
          "output_type": "execute_result"
        }
      ],
      "source": [
        "type(number)"
      ]
    },
    {
      "cell_type": "code",
      "execution_count": null,
      "id": "c160a87c",
      "metadata": {
        "id": "c160a87c"
      },
      "outputs": [],
      "source": [
        "_ = 'come'"
      ]
    },
    {
      "cell_type": "code",
      "execution_count": null,
      "id": "8da40fe8",
      "metadata": {
        "id": "8da40fe8",
        "outputId": "297c5c9c-dc82-40bc-c536-99c141170ede"
      },
      "outputs": [
        {
          "data": {
            "text/plain": [
              "'come'"
            ]
          },
          "execution_count": 43,
          "metadata": {},
          "output_type": "execute_result"
        }
      ],
      "source": [
        "_"
      ]
    },
    {
      "cell_type": "code",
      "execution_count": null,
      "id": "46ec0d2a",
      "metadata": {
        "id": "46ec0d2a"
      },
      "outputs": [],
      "source": [
        "Ballance = 60"
      ]
    },
    {
      "cell_type": "code",
      "execution_count": null,
      "id": "071d9d8d",
      "metadata": {
        "id": "071d9d8d",
        "outputId": "2cae8640-ee85-4c04-ee8a-b093ca78d5c8"
      },
      "outputs": [
        {
          "ename": "NameError",
          "evalue": "name 'ballance' is not defined",
          "output_type": "error",
          "traceback": [
            "\u001b[1;31m---------------------------------------------------------------------------\u001b[0m",
            "\u001b[1;31mNameError\u001b[0m                                 Traceback (most recent call last)",
            "\u001b[1;32m<ipython-input-49-8e5a3896d675>\u001b[0m in \u001b[0;36m<module>\u001b[1;34m\u001b[0m\n\u001b[1;32m----> 1\u001b[1;33m \u001b[0mballance\u001b[0m\u001b[1;33m\u001b[0m\u001b[1;33m\u001b[0m\u001b[0m\n\u001b[0m",
            "\u001b[1;31mNameError\u001b[0m: name 'ballance' is not defined"
          ]
        }
      ],
      "source": [
        "ballance"
      ]
    },
    {
      "cell_type": "code",
      "execution_count": null,
      "id": "a6db8bfe",
      "metadata": {
        "id": "a6db8bfe"
      },
      "outputs": [],
      "source": [
        ""
      ]
    }
  ],
  "metadata": {
    "kernelspec": {
      "display_name": "Python 3",
      "language": "python",
      "name": "python3"
    },
    "language_info": {
      "codemirror_mode": {
        "name": "ipython",
        "version": 3
      },
      "file_extension": ".py",
      "mimetype": "text/x-python",
      "name": "python",
      "nbconvert_exporter": "python",
      "pygments_lexer": "ipython3",
      "version": "3.8.8"
    },
    "colab": {
      "name": "python_basics_string.ipynb",
      "provenance": [],
      "include_colab_link": true
    }
  },
  "nbformat": 4,
  "nbformat_minor": 5
}