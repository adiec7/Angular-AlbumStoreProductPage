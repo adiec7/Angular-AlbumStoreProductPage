{
  "cells": [
    {
      "cell_type": "markdown",
      "metadata": {
        "id": "view-in-github",
        "colab_type": "text"
      },
      "source": [
        "<a href=\"https://colab.research.google.com/github/adiec7/Angular-AlbumStoreProductPage/blob/master/Python_basics_2_numbers_(1).ipynb\" target=\"_parent\"><img src=\"https://colab.research.google.com/assets/colab-badge.svg\" alt=\"Open In Colab\"/></a>"
      ]
    },
    {
      "cell_type": "code",
      "execution_count": null,
      "id": "5fc4aee6",
      "metadata": {
        "id": "5fc4aee6",
        "outputId": "32e90122-ef5e-48f2-8497-c4cb02d3e7c5"
      },
      "outputs": [
        {
          "data": {
            "text/plain": [
              "(1, 2, 3, 4, 5)"
            ]
          },
          "execution_count": 2,
          "metadata": {},
          "output_type": "execute_result"
        }
      ],
      "source": [
        "1,2,3,4,5"
      ]
    },
    {
      "cell_type": "markdown",
      "id": "7924b9f9",
      "metadata": {
        "id": "7924b9f9"
      },
      "source": [
        "# Expression \n",
        "Expressions consist of values (such as\n",
        "2) and operators (such as +), and they can always evaluate (that is, reduce) down\n",
        "to a single value. That means you can use expressions anywhere in Python code\n",
        "that you could also use a value.\n",
        "\n",
        "A single\n",
        "value with no operators is also considered an expression, though it evaluates\n",
        "only to itself, as shown here:\n",
        "Examples below"
      ]
    },
    {
      "cell_type": "code",
      "execution_count": null,
      "id": "80eb13e1",
      "metadata": {
        "id": "80eb13e1",
        "outputId": "11687c5c-f9d3-497f-8c37-380d24b0bc9c"
      },
      "outputs": [
        {
          "data": {
            "text/plain": [
              "10"
            ]
          },
          "execution_count": 3,
          "metadata": {},
          "output_type": "execute_result"
        }
      ],
      "source": [
        "4+6"
      ]
    },
    {
      "cell_type": "code",
      "execution_count": null,
      "id": "b885a238",
      "metadata": {
        "id": "b885a238",
        "outputId": "913c8307-1dbd-44dd-b1c1-29bbe860397d"
      },
      "outputs": [
        {
          "data": {
            "text/plain": [
              "2"
            ]
          },
          "execution_count": 4,
          "metadata": {},
          "output_type": "execute_result"
        }
      ],
      "source": [
        "2"
      ]
    },
    {
      "cell_type": "code",
      "execution_count": null,
      "id": "53ead388",
      "metadata": {
        "id": "53ead388",
        "outputId": "c1381412-9750-411a-9a6e-b90fdddec611"
      },
      "outputs": [
        {
          "data": {
            "text/plain": [
              "3"
            ]
          },
          "execution_count": 5,
          "metadata": {},
          "output_type": "execute_result"
        }
      ],
      "source": [
        "# Addition\n",
        "1 +2\n"
      ]
    },
    {
      "cell_type": "code",
      "execution_count": null,
      "id": "fd24237b",
      "metadata": {
        "id": "fd24237b",
        "outputId": "d7a78a0d-ec66-402d-f2a8-39ae5570abf0"
      },
      "outputs": [
        {
          "data": {
            "text/plain": [
              "3"
            ]
          },
          "execution_count": 6,
          "metadata": {},
          "output_type": "execute_result"
        }
      ],
      "source": [
        "# Subtraction \n",
        "6-3"
      ]
    },
    {
      "cell_type": "code",
      "execution_count": null,
      "id": "249cc4f2",
      "metadata": {
        "id": "249cc4f2",
        "outputId": "beb4024a-42e4-4c40-afc8-85ccf9fe9b5d"
      },
      "outputs": [
        {
          "data": {
            "text/plain": [
              "18"
            ]
          },
          "execution_count": 7,
          "metadata": {},
          "output_type": "execute_result"
        }
      ],
      "source": [
        "# Multiplecation \n",
        "6 * 3"
      ]
    },
    {
      "cell_type": "code",
      "execution_count": null,
      "id": "6eae7a17",
      "metadata": {
        "id": "6eae7a17",
        "outputId": "d58d1594-6dd3-4342-ccb2-35ef6e57f1af"
      },
      "outputs": [
        {
          "data": {
            "text/plain": [
              "6.333333333333333"
            ]
          },
          "execution_count": 8,
          "metadata": {},
          "output_type": "execute_result"
        }
      ],
      "source": [
        "# Divition \n",
        "19/3"
      ]
    },
    {
      "cell_type": "code",
      "execution_count": null,
      "id": "b7f3e5a9",
      "metadata": {
        "id": "b7f3e5a9",
        "outputId": "976b7925-e2c0-4531-e6a6-272cc4de5506"
      },
      "outputs": [
        {
          "data": {
            "text/plain": [
              "8"
            ]
          },
          "execution_count": 9,
          "metadata": {},
          "output_type": "execute_result"
        }
      ],
      "source": [
        "# Power 2*2*2\n",
        "2 ** 3"
      ]
    },
    {
      "cell_type": "code",
      "execution_count": null,
      "id": "647ee049",
      "metadata": {
        "id": "647ee049",
        "outputId": "cb32b3c1-748a-4a94-826d-4cd30e3876d8"
      },
      "outputs": [
        {
          "data": {
            "text/plain": [
              "6"
            ]
          },
          "execution_count": 2,
          "metadata": {},
          "output_type": "execute_result"
        }
      ],
      "source": [
        "# Whole number \n",
        "19//3"
      ]
    },
    {
      "cell_type": "code",
      "execution_count": null,
      "id": "d6b45c2a",
      "metadata": {
        "id": "d6b45c2a",
        "outputId": "3f768303-ad12-429e-e921-c4f4f010aea4"
      },
      "outputs": [
        {
          "data": {
            "text/plain": [
              "1"
            ]
          },
          "execution_count": 3,
          "metadata": {},
          "output_type": "execute_result"
        }
      ],
      "source": [
        "# Reminder operator or modulo\n",
        "19 % 3"
      ]
    },
    {
      "cell_type": "markdown",
      "id": "8e9530f2",
      "metadata": {
        "id": "8e9530f2"
      },
      "source": [
        "|<span style=\"color:blue\"> Operator</span> | <span style=\"color:blue\">Operator name</span> |<span style=\"color:blue\"> Example</span>| <span style=\"color:blue\">Evaluate to</span> |\n",
        "|:--------|:--------------:|:-------:|:-----------:|\n",
        "**       | Exponent      | 2**4    |6            |\n",
        "|%       | Modulu/reminder| 22%8   |6            |\n",
        "|//      | Interger division/floored quotient | 22//8 | 2 |\n",
        "|/       | Division        | 22/8  | 2.75     |\n",
        "|*       | Multiplication  | 3*5   | 15       |\n",
        "|-       | Substraction    | 5-2   | 3\n",
        "|+       | Addition        | 2+2   | 4\n",
        "\n"
      ]
    },
    {
      "cell_type": "markdown",
      "id": "d8150e98",
      "metadata": {
        "id": "d8150e98"
      },
      "source": [
        "-----------------------------------------\n",
        "## Number types\n",
        "---------------------\n",
        "Python supports four different numerical types −\n",
        "\n",
        "int (signed integers) − They are often called just integers or ints, are positive or negative whole numbers with no decimal point.\n",
        "\n",
        "long (long integers ) − Also called longs, they are integers of unlimited size, written like integers and followed by an uppercase or lowercase L.\n",
        "\n",
        "float (floating point real values) − Also called floats, they represent real numbers and are written with a decimal point dividing the integer and fractional parts. Floats may also be in scientific notation, with E or e indicating the power of 10 (2.5e2 = 2.5 x 102 = 250).\n",
        "\n",
        "complex (complex numbers) − are of the form a + bJ, where a and b are floats and J (or j) represents the square root of -1 (which is an imaginary number). The real part of the number is a, and the imaginary part is b. Complex numbers are not used much in Python programming\n",
        "\n",
        "-----------------------------------------------------------------------\n",
        "Here are some examples of numbers\n",
        "<table class=\"table table-bordered\" style='background:blue' >\n",
        "    <tr>\n",
        "        <th style=\"width:10%\">int</th><th style=\"width:45%\">long</th><th>float</th><th>compound </th>\n",
        "    </tr>\n",
        "    <tr>\n",
        "        <td><span style=\"color:white\">10</span></td>\n",
        "<td><span style=\"color:white\">51924361L</span></td>\n",
        "        <td><span style=\"color:white\"> 0.0</span></td>\n",
        "        <td><span style=\"color:white\"> 3.14j</span></td>\n",
        "</tr>\n",
        "\n",
        "<tr>\n",
        "        <td>100</td>\n",
        "<td>-0x19323L</td>\n",
        "        <td>15.20</td>\n",
        "        <td>45.j</td>\n",
        "</tr>\n",
        "\n",
        "<tr>\n",
        "        <td><span style=\"color:white\">-786</span></td>\n",
        "<td><span style=\"color:white\">0122L</span></td>\n",
        "        <td><span style=\"color:white\">-21.9</span></td>\n",
        "        <td><span style=\"color:white\"> 9.322e-36j</span></td>\n",
        "</tr>\n",
        "    \n",
        "<tr>\n",
        "        <td>080</td>\n",
        "<td>0xDEFABCECBDAECBFBAEL</td>\n",
        "        <td>32.3+e18</td>\n",
        "        <td>.876j</td>\n",
        "</tr>\n",
        "\n",
        "<tr>\n",
        "        <td><span style=\"color:white\">-0490</span></td>\n",
        "<td><span style=\"color:white\">535633629843L</span></td>\n",
        "        <td><span style=\"color:white\">-90.</span></td>\n",
        "        <td><span style=\"color:white\">-.6545+0J</span></td>\n",
        "</tr>\n",
        "<tr>\n",
        "        <td>-0x260</td>\n",
        "<td>-052318172735L</td>\n",
        "        <td>-32.54e100</td>\n",
        "        <td>3e+26J</td>\n",
        "</tr>  \n",
        "\n",
        "<tr>\n",
        "        <td><span style=\"color:white\">0x69</span></td>\n",
        "<td><span style=\"color:white\">-4721885298529L</span></td>\n",
        "        <td><span style=\"color:white\">70.2-E12</span></td>\n",
        "        <td><span style=\"color:white\">4.53e-7j</span></td>\n",
        "</tr>\n",
        "\n",
        "\n",
        "</table>\n",
        "\n",
        "--------------------------\n",
        "[Learn more about numbers here](https://www.tutorialspoint.com/python/python_numbers.htm)\n",
        "\n"
      ]
    }
  ],
  "metadata": {
    "kernelspec": {
      "display_name": "Python 3",
      "language": "python",
      "name": "python3"
    },
    "language_info": {
      "codemirror_mode": {
        "name": "ipython",
        "version": 3
      },
      "file_extension": ".py",
      "mimetype": "text/x-python",
      "name": "python",
      "nbconvert_exporter": "python",
      "pygments_lexer": "ipython3",
      "version": "3.8.8"
    },
    "colab": {
      "provenance": [],
      "include_colab_link": true
    }
  },
  "nbformat": 4,
  "nbformat_minor": 5
}